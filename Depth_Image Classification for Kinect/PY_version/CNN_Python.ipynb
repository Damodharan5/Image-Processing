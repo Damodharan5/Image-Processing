{
 "cells": [
  {
   "cell_type": "code",
   "execution_count": 1,
   "metadata": {},
   "outputs": [
    {
     "name": "stderr",
     "output_type": "stream",
     "text": [
      "Using TensorFlow backend.\n"
     ]
    }
   ],
   "source": [
    "from keras.models import Sequential\n",
    "from keras.layers import Convolution2D\n",
    "from keras.layers import MaxPooling2D\n",
    "from keras.layers import Flatten\n",
    "from keras.layers import Dense\n",
    "from keras.layers import BatchNormalization\n",
    "import numpy as np\n",
    "from keras.optimizers import SGD\n",
    "from keras.utils import np_utils\n",
    "from keras.layers import Activation\n",
    "from keras.callbacks import EarlyStopping\n",
    "import h5py\n",
    "\n",
    "#if u dont have Gpu, change the module name from \"tensorflow-gpu\" -> \"tensorflow\" in the file \"virtual_platform_windows.yml\" and\n",
    "#run this command in conda terminal - conda env update -f virtual_platform_windows.yml"
   ]
  },
  {
   "cell_type": "code",
   "execution_count": 2,
   "metadata": {
    "collapsed": true
   },
   "outputs": [],
   "source": [
    "classifier = Sequential()"
   ]
  },
  {
   "cell_type": "markdown",
   "metadata": {},
   "source": [
    "## Neural Network starts here"
   ]
  },
  {
   "cell_type": "code",
   "execution_count": 3,
   "metadata": {
    "collapsed": true
   },
   "outputs": [],
   "source": [
    "classifier.add(Convolution2D(32,(7,7),input_shape = (100, 100, 1),strides=(3,3),padding='valid'))\n",
    "classifier.add(BatchNormalization())\n",
    "classifier.add(Activation('relu'))\n",
    "classifier.add(MaxPooling2D(pool_size=(3,3),strides=(2,2)))"
   ]
  },
  {
   "cell_type": "code",
   "execution_count": 4,
   "metadata": {
    "collapsed": true
   },
   "outputs": [],
   "source": [
    "classifier.add(Convolution2D(64,(5,5),strides=(2,2),padding='valid'))\n",
    "classifier.add(BatchNormalization())\n",
    "classifier.add(Activation('relu'))"
   ]
  },
  {
   "cell_type": "code",
   "execution_count": 5,
   "metadata": {
    "collapsed": true
   },
   "outputs": [],
   "source": [
    "classifier.add(Convolution2D(150,(3,3),strides=(1,1),padding='valid'))\n",
    "classifier.add(BatchNormalization())\n",
    "classifier.add(Activation('relu'))\n",
    "classifier.add(MaxPooling2D(pool_size=(3,3),strides=(2,2)))"
   ]
  },
  {
   "cell_type": "code",
   "execution_count": 6,
   "metadata": {
    "collapsed": true
   },
   "outputs": [],
   "source": [
    "classifier.add(Flatten())"
   ]
  },
  {
   "cell_type": "code",
   "execution_count": 7,
   "metadata": {
    "collapsed": true
   },
   "outputs": [],
   "source": [
    "classifier.add(Dense(units=32))"
   ]
  },
  {
   "cell_type": "code",
   "execution_count": 8,
   "metadata": {
    "collapsed": true
   },
   "outputs": [],
   "source": [
    "from keras.layers import Dropout"
   ]
  },
  {
   "cell_type": "code",
   "execution_count": 9,
   "metadata": {
    "collapsed": true
   },
   "outputs": [],
   "source": [
    "classifier.add(Dropout(0.6))"
   ]
  },
  {
   "cell_type": "code",
   "execution_count": 10,
   "metadata": {
    "collapsed": true
   },
   "outputs": [],
   "source": [
    "classifier.add(Dense(units=25))\n",
    "classifier.add(Dropout(0.6))"
   ]
  },
  {
   "cell_type": "code",
   "execution_count": 11,
   "metadata": {
    "collapsed": true
   },
   "outputs": [],
   "source": [
    "classifier.add(Dense(units=7,activation='softmax'))"
   ]
  },
  {
   "cell_type": "markdown",
   "metadata": {},
   "source": [
    "## Neural Network ends here"
   ]
  },
  {
   "cell_type": "code",
   "execution_count": 12,
   "metadata": {
    "collapsed": true
   },
   "outputs": [],
   "source": [
    "sgd = SGD(lr=0.005, momentum=0.9)\n",
    "classifier.compile(optimizer=sgd, loss='categorical_crossentropy', metrics=['accuracy'])\n",
    "earlystop = EarlyStopping(monitor='val_acc', min_delta=0.01, patience=5,\n",
    "                          verbose=1, mode='auto')\n",
    "callbacks_list = [earlystop]"
   ]
  },
  {
   "cell_type": "code",
   "execution_count": 13,
   "metadata": {
    "collapsed": true
   },
   "outputs": [],
   "source": [
    "from keras.preprocessing.image  import ImageDataGenerator"
   ]
  },
  {
   "cell_type": "code",
   "execution_count": 14,
   "metadata": {
    "collapsed": true
   },
   "outputs": [],
   "source": [
    "train_datagen = ImageDataGenerator()"
   ]
  },
  {
   "cell_type": "code",
   "execution_count": 15,
   "metadata": {
    "collapsed": true
   },
   "outputs": [],
   "source": [
    "test_datagen = ImageDataGenerator()"
   ]
  },
  {
   "cell_type": "code",
   "execution_count": 16,
   "metadata": {},
   "outputs": [
    {
     "name": "stdout",
     "output_type": "stream",
     "text": [
      "Found 56000 images belonging to 7 classes.\n"
     ]
    }
   ],
   "source": [
    "training_set = train_datagen.flow_from_directory( 'D:/UTD_SEM/Fall_17/DIP/Project/ProjectDataset2/Train',\n",
    "                                                    target_size=(100, 100),\n",
    "                                                    color_mode=\"grayscale\",\n",
    "                                                    batch_size=128,\n",
    "                                                    class_mode='categorical')"
   ]
  },
  {
   "cell_type": "code",
   "execution_count": 17,
   "metadata": {},
   "outputs": [
    {
     "name": "stdout",
     "output_type": "stream",
     "text": [
      "Found 280 images belonging to 7 classes.\n"
     ]
    }
   ],
   "source": [
    "testing_set = test_datagen.flow_from_directory( 'D:/UTD_SEM/Fall_17/DIP/Project/ProjectDataset2/Test',\n",
    "                                                    target_size=(100, 100),\n",
    "                                                    color_mode=\"grayscale\",\n",
    "                                                    batch_size=128,\n",
    "                                                    class_mode='categorical')\n"
   ]
  },
  {
   "cell_type": "code",
   "execution_count": 18,
   "metadata": {},
   "outputs": [
    {
     "name": "stderr",
     "output_type": "stream",
     "text": [
      "C:\\Anaconda3\\envs\\virtual_platform\\lib\\site-packages\\ipykernel_launcher.py:6: UserWarning: Update your `fit_generator` call to the Keras 2 API: `fit_generator(<keras.pre..., validation_data=<keras.pre..., steps_per_epoch=450.0, callbacks=[<keras.ca..., max_queue_size=64, workers=128, epochs=8, validation_steps=250.0)`\n",
      "  \n"
     ]
    },
    {
     "name": "stdout",
     "output_type": "stream",
     "text": [
      "Epoch 1/8\n",
      "450/450 [==============================] - 68s 151ms/step - loss: 1.4262 - acc: 0.5431 - val_loss: 0.8188 - val_acc: 0.7109\n",
      "Epoch 2/8\n",
      "450/450 [==============================] - 63s 140ms/step - loss: 0.3428 - acc: 0.8789 - val_loss: 0.3703 - val_acc: 0.9143\n",
      "Epoch 3/8\n",
      "450/450 [==============================] - 63s 140ms/step - loss: 0.1903 - acc: 0.9335 - val_loss: 0.2386 - val_acc: 0.9321\n",
      "Epoch 4/8\n",
      "450/450 [==============================] - 62s 138ms/step - loss: 0.1350 - acc: 0.9523 - val_loss: 0.1930 - val_acc: 0.9499\n",
      "Epoch 5/8\n",
      "450/450 [==============================] - 62s 138ms/step - loss: 0.1016 - acc: 0.9641 - val_loss: 0.2280 - val_acc: 0.9537\n",
      "Epoch 6/8\n",
      "450/450 [==============================] - 64s 141ms/step - loss: 0.0826 - acc: 0.9694 - val_loss: 0.2302 - val_acc: 0.9643\n",
      "Epoch 7/8\n",
      "450/450 [==============================] - 63s 140ms/step - loss: 0.0718 - acc: 0.9737 - val_loss: 0.2943 - val_acc: 0.9572\n",
      "Epoch 8/8\n",
      "450/450 [==============================] - 63s 139ms/step - loss: 0.0586 - acc: 0.9772 - val_loss: 0.3024 - val_acc: 0.9465\n"
     ]
    },
    {
     "data": {
      "text/plain": [
       "<keras.callbacks.History at 0x23aff5bb7b8>"
      ]
     },
     "execution_count": 18,
     "metadata": {},
     "output_type": "execute_result"
    }
   ],
   "source": [
    "classifier.fit_generator(training_set,\n",
    "                            steps_per_epoch=14400*4/128,\n",
    "                            epochs=8,\n",
    "                            validation_data=testing_set,\n",
    "                            callbacks=callbacks_list,\n",
    "                            validation_steps=8000*4/128,workers=128,max_q_size=64)"
   ]
  },
  {
   "cell_type": "code",
   "execution_count": 19,
   "metadata": {},
   "outputs": [],
   "source": [
    "classifier.save(\"model\")"
   ]
  },
  {
   "cell_type": "code",
   "execution_count": 20,
   "metadata": {
    "collapsed": true
   },
   "outputs": [],
   "source": [
    "from keras.preprocessing import image\n",
    "y_pred = []"
   ]
  },
  {
   "cell_type": "code",
   "execution_count": 21,
   "metadata": {
    "collapsed": true
   },
   "outputs": [],
   "source": [
    "for j in range(7):\n",
    "    for i in range(40):\n",
    "        test_image = image.load_img('D:/UTD_SEM/Fall_17/DIP/Project/ProjectDataset2/Test/a'+str(1+j)+'/a'+str(1+j)+'_'+str(i+1)+'.png',target_size=(100, 100),grayscale=True)\n",
    "        test_image = image.img_to_array(test_image)\n",
    "        test_image.shape\n",
    "        test_image = np.expand_dims(test_image,axis=0)\n",
    "        result = classifier.predict(test_image)\n",
    "        y_pred.append(result.argmax())"
   ]
  },
  {
   "cell_type": "code",
   "execution_count": 22,
   "metadata": {
    "collapsed": true
   },
   "outputs": [],
   "source": [
    "test_prediction = np.array(y_pred)"
   ]
  },
  {
   "cell_type": "code",
   "execution_count": 23,
   "metadata": {},
   "outputs": [
    {
     "data": {
      "text/plain": [
       "(280,)"
      ]
     },
     "execution_count": 23,
     "metadata": {},
     "output_type": "execute_result"
    }
   ],
   "source": [
    "test_prediction.shape"
   ]
  },
  {
   "cell_type": "code",
   "execution_count": 24,
   "metadata": {},
   "outputs": [
    {
     "data": {
      "text/plain": [
       "(280,)"
      ]
     },
     "execution_count": 24,
     "metadata": {},
     "output_type": "execute_result"
    }
   ],
   "source": [
    "testing_set.classes.shape"
   ]
  },
  {
   "cell_type": "code",
   "execution_count": 25,
   "metadata": {},
   "outputs": [
    {
     "data": {
      "text/plain": [
       "array([[34,  0,  0,  4,  1,  1,  0],\n",
       "       [ 0, 37,  2,  0,  1,  0,  0],\n",
       "       [ 0,  0, 37,  0,  0,  3,  0],\n",
       "       [ 0,  0,  0, 39,  0,  1,  0],\n",
       "       [ 0,  1,  0,  0, 39,  0,  0],\n",
       "       [ 0,  0,  0,  1,  0, 39,  0],\n",
       "       [ 0,  0,  0,  0,  0,  0, 40]], dtype=int64)"
      ]
     },
     "execution_count": 25,
     "metadata": {},
     "output_type": "execute_result"
    }
   ],
   "source": [
    "from sklearn.metrics import confusion_matrix\n",
    "confusion_matrix(testing_set.classes, test_prediction)"
   ]
  },
  {
   "cell_type": "code",
   "execution_count": 26,
   "metadata": {},
   "outputs": [
    {
     "data": {
      "text/plain": [
       "94.642857142857139"
      ]
     },
     "execution_count": 26,
     "metadata": {},
     "output_type": "execute_result"
    }
   ],
   "source": [
    "from sklearn.metrics import accuracy_score\n",
    "accuracy_score(testing_set.classes, test_prediction)*100"
   ]
  },
  {
   "cell_type": "markdown",
   "metadata": {},
   "source": [
    "# Pretrained model goes here"
   ]
  },
  {
   "cell_type": "code",
   "execution_count": 29,
   "metadata": {
    "collapsed": true
   },
   "outputs": [],
   "source": [
    "from keras.models import load_model"
   ]
  },
  {
   "cell_type": "code",
   "execution_count": 33,
   "metadata": {},
   "outputs": [],
   "source": [
    "classifier = load_model(\"model\")"
   ]
  },
  {
   "cell_type": "code",
   "execution_count": null,
   "metadata": {
    "collapsed": true
   },
   "outputs": [],
   "source": []
  }
 ],
 "metadata": {
  "kernelspec": {
   "display_name": "Python 3",
   "language": "python",
   "name": "python3"
  },
  "language_info": {
   "codemirror_mode": {
    "name": "ipython",
    "version": 3
   },
   "file_extension": ".py",
   "mimetype": "text/x-python",
   "name": "python",
   "nbconvert_exporter": "python",
   "pygments_lexer": "ipython3",
   "version": "3.5.4"
  }
 },
 "nbformat": 4,
 "nbformat_minor": 2
}
